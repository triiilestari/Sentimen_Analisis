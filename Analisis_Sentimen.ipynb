{
  "nbformat": 4,
  "nbformat_minor": 0,
  "metadata": {
    "colab": {
      "name": "Analisis Sentimen.ipynb",
      "provenance": [],
      "collapsed_sections": []
    },
    "kernelspec": {
      "name": "python3",
      "display_name": "Python 3"
    },
    "language_info": {
      "name": "python"
    }
  },
  "cells": [
    {
      "cell_type": "markdown",
      "metadata": {
        "id": "ojy-5_RYFe7s"
      },
      "source": [
        "##Read Dataset\n"
      ]
    },
    {
      "cell_type": "code",
      "metadata": {
        "id": "HQCkaARDo5ic",
        "colab": {
          "base_uri": "https://localhost:8080/",
          "height": 203
        },
        "outputId": "f60bc4b5-277c-4e69-f72c-6cd17bf99baa"
      },
      "source": [
        "#Membaca dataset dengan library pandas\n",
        "import pandas as pd\n",
        "\n",
        "df = pd.read_csv('Dataset_Sentimen_Covid_19.csv')\n",
        "df.head()"
      ],
      "execution_count": null,
      "outputs": [
        {
          "output_type": "execute_result",
          "data": {
            "text/html": [
              "<div>\n",
              "<style scoped>\n",
              "    .dataframe tbody tr th:only-of-type {\n",
              "        vertical-align: middle;\n",
              "    }\n",
              "\n",
              "    .dataframe tbody tr th {\n",
              "        vertical-align: top;\n",
              "    }\n",
              "\n",
              "    .dataframe thead th {\n",
              "        text-align: right;\n",
              "    }\n",
              "</style>\n",
              "<table border=\"1\" class=\"dataframe\">\n",
              "  <thead>\n",
              "    <tr style=\"text-align: right;\">\n",
              "      <th></th>\n",
              "      <th>Tweet</th>\n",
              "      <th>Label</th>\n",
              "      <th>Sentimen</th>\n",
              "      <th>Waktu</th>\n",
              "    </tr>\n",
              "  </thead>\n",
              "  <tbody>\n",
              "    <tr>\n",
              "      <th>0</th>\n",
              "      <td>... dapat membuat proses vaksinasi Covid-19 me...</td>\n",
              "      <td>0</td>\n",
              "      <td>Negatif</td>\n",
              "      <td>2020-11-29 09:50:01+00:00</td>\n",
              "    </tr>\n",
              "    <tr>\n",
              "      <th>1</th>\n",
              "      <td>'Everything happens for a good reason''. Segal...</td>\n",
              "      <td>1</td>\n",
              "      <td>Positif</td>\n",
              "      <td>2021-01-08 11:38:19+00:00</td>\n",
              "    </tr>\n",
              "    <tr>\n",
              "      <th>2</th>\n",
              "      <td>\" bagaimana dampak covid-19 terhadap kenaikan ...</td>\n",
              "      <td>0</td>\n",
              "      <td>Negatif</td>\n",
              "      <td>2020-11-29 06:40:45+00:00</td>\n",
              "    </tr>\n",
              "    <tr>\n",
              "      <th>3</th>\n",
              "      <td>\"Di indonesia doang covid 19 paling bertahan\"</td>\n",
              "      <td>0</td>\n",
              "      <td>Negatif</td>\n",
              "      <td>2020-11-29 13:40:50+00:00</td>\n",
              "    </tr>\n",
              "    <tr>\n",
              "      <th>4</th>\n",
              "      <td>\"Indonesia jangan sampai kena gelombang 2 covi...</td>\n",
              "      <td>0</td>\n",
              "      <td>Negatif</td>\n",
              "      <td>2020-12-31 16:10:09+00:00</td>\n",
              "    </tr>\n",
              "  </tbody>\n",
              "</table>\n",
              "</div>"
            ],
            "text/plain": [
              "                                               Tweet  ...                      Waktu\n",
              "0  ... dapat membuat proses vaksinasi Covid-19 me...  ...  2020-11-29 09:50:01+00:00\n",
              "1  'Everything happens for a good reason''. Segal...  ...  2021-01-08 11:38:19+00:00\n",
              "2  \" bagaimana dampak covid-19 terhadap kenaikan ...  ...  2020-11-29 06:40:45+00:00\n",
              "3      \"Di indonesia doang covid 19 paling bertahan\"  ...  2020-11-29 13:40:50+00:00\n",
              "4  \"Indonesia jangan sampai kena gelombang 2 covi...  ...  2020-12-31 16:10:09+00:00\n",
              "\n",
              "[5 rows x 4 columns]"
            ]
          },
          "metadata": {
            "tags": []
          },
          "execution_count": 1
        }
      ]
    },
    {
      "cell_type": "code",
      "metadata": {
        "id": "mk6jQw74sukn",
        "colab": {
          "base_uri": "https://localhost:8080/"
        },
        "outputId": "f7ffc2e6-2f4d-4ed3-fe60-cc589d17af27"
      },
      "source": [
        "#melihat kolom pada data\n",
        "list(df.columns.values) "
      ],
      "execution_count": null,
      "outputs": [
        {
          "output_type": "execute_result",
          "data": {
            "text/plain": [
              "['Tweet', 'Label', 'Sentimen', 'Waktu']"
            ]
          },
          "metadata": {
            "tags": []
          },
          "execution_count": 2
        }
      ]
    },
    {
      "cell_type": "code",
      "metadata": {
        "id": "n7LjRBRouiBt",
        "colab": {
          "base_uri": "https://localhost:8080/"
        },
        "outputId": "7f9c8a54-e17b-4b4c-ab3f-4997632e6e10"
      },
      "source": [
        "#Mengetahuan jumlah data dan masing-masing kolom\n",
        "number_of_tweets = df.Tweet.count()\n",
        "sentiment_counts = df.Sentimen.value_counts()\n",
        "\n",
        "#Jumlah tweet\n",
        "print(number_of_tweets)\n",
        "#Jumlah setiap sentimen \n",
        "print(sentiment_counts) "
      ],
      "execution_count": null,
      "outputs": [
        {
          "output_type": "stream",
          "text": [
            "1302\n",
            "Positif    797\n",
            "Negatif    505\n",
            "Name: Sentimen, dtype: int64\n"
          ],
          "name": "stdout"
        }
      ]
    },
    {
      "cell_type": "markdown",
      "metadata": {
        "id": "-v5ToDNLFpto"
      },
      "source": [
        "##Cleansing\n"
      ]
    },
    {
      "cell_type": "code",
      "metadata": {
        "colab": {
          "base_uri": "https://localhost:8080/",
          "height": 203
        },
        "id": "n_WtM6Iqyj40",
        "outputId": "8978de66-226d-481d-d097-0ace7791965d"
      },
      "source": [
        "#Prose cleansing\n",
        "import re\n",
        "\n",
        "def cleansing(text):\n",
        "  #_menghapus URL_\n",
        "  text = re.sub('(https?://\\S+|www\\.\\S+)|(www\\.[^\\s]+)',' ', text)\n",
        "  #_menghapus username\n",
        "  text = re.sub('@[^\\s]+','', text)\n",
        "  #_menghapus hashtag\n",
        "  text = re.sub('#([^\\s]+)', '', text)\n",
        "  #_menghapus punctuation dan emoticon\n",
        "  text = re.sub('[^\\w\\s]+', '', text)\n",
        "  #_menghapus angka\n",
        "  text = re.sub('\\d{2,9}','', text)\n",
        "  #_menghapus whitespace\n",
        "  text = re.sub('[\\s]+',' ', text)\n",
        "  return text\n",
        "\n",
        "df[\"cleansing\"] = df[\"Tweet\"].apply(lambda text: cleansing(text))\n",
        "df.head()"
      ],
      "execution_count": null,
      "outputs": [
        {
          "output_type": "execute_result",
          "data": {
            "text/html": [
              "<div>\n",
              "<style scoped>\n",
              "    .dataframe tbody tr th:only-of-type {\n",
              "        vertical-align: middle;\n",
              "    }\n",
              "\n",
              "    .dataframe tbody tr th {\n",
              "        vertical-align: top;\n",
              "    }\n",
              "\n",
              "    .dataframe thead th {\n",
              "        text-align: right;\n",
              "    }\n",
              "</style>\n",
              "<table border=\"1\" class=\"dataframe\">\n",
              "  <thead>\n",
              "    <tr style=\"text-align: right;\">\n",
              "      <th></th>\n",
              "      <th>Tweet</th>\n",
              "      <th>Label</th>\n",
              "      <th>Sentimen</th>\n",
              "      <th>Waktu</th>\n",
              "      <th>cleansing</th>\n",
              "    </tr>\n",
              "  </thead>\n",
              "  <tbody>\n",
              "    <tr>\n",
              "      <th>0</th>\n",
              "      <td>... dapat membuat proses vaksinasi Covid-19 me...</td>\n",
              "      <td>0</td>\n",
              "      <td>Negatif</td>\n",
              "      <td>2020-11-29 09:50:01+00:00</td>\n",
              "      <td>dapat membuat proses vaksinasi Covid menjadi ...</td>\n",
              "    </tr>\n",
              "    <tr>\n",
              "      <th>1</th>\n",
              "      <td>'Everything happens for a good reason''. Segal...</td>\n",
              "      <td>1</td>\n",
              "      <td>Positif</td>\n",
              "      <td>2021-01-08 11:38:19+00:00</td>\n",
              "      <td>Everything happens for a good reason Segala se...</td>\n",
              "    </tr>\n",
              "    <tr>\n",
              "      <th>2</th>\n",
              "      <td>\" bagaimana dampak covid-19 terhadap kenaikan ...</td>\n",
              "      <td>0</td>\n",
              "      <td>Negatif</td>\n",
              "      <td>2020-11-29 06:40:45+00:00</td>\n",
              "      <td>bagaimana dampak covid terhadap kenaikan angk...</td>\n",
              "    </tr>\n",
              "    <tr>\n",
              "      <th>3</th>\n",
              "      <td>\"Di indonesia doang covid 19 paling bertahan\"</td>\n",
              "      <td>0</td>\n",
              "      <td>Negatif</td>\n",
              "      <td>2020-11-29 13:40:50+00:00</td>\n",
              "      <td>Di indonesia doang covid paling bertahan</td>\n",
              "    </tr>\n",
              "    <tr>\n",
              "      <th>4</th>\n",
              "      <td>\"Indonesia jangan sampai kena gelombang 2 covi...</td>\n",
              "      <td>0</td>\n",
              "      <td>Negatif</td>\n",
              "      <td>2020-12-31 16:10:09+00:00</td>\n",
              "      <td>Indonesia jangan sampai kena gelombang 2 covid...</td>\n",
              "    </tr>\n",
              "  </tbody>\n",
              "</table>\n",
              "</div>"
            ],
            "text/plain": [
              "                                               Tweet  ...                                          cleansing\n",
              "0  ... dapat membuat proses vaksinasi Covid-19 me...  ...   dapat membuat proses vaksinasi Covid menjadi ...\n",
              "1  'Everything happens for a good reason''. Segal...  ...  Everything happens for a good reason Segala se...\n",
              "2  \" bagaimana dampak covid-19 terhadap kenaikan ...  ...   bagaimana dampak covid terhadap kenaikan angk...\n",
              "3      \"Di indonesia doang covid 19 paling bertahan\"  ...           Di indonesia doang covid paling bertahan\n",
              "4  \"Indonesia jangan sampai kena gelombang 2 covi...  ...  Indonesia jangan sampai kena gelombang 2 covid...\n",
              "\n",
              "[5 rows x 5 columns]"
            ]
          },
          "metadata": {
            "tags": []
          },
          "execution_count": 4
        }
      ]
    },
    {
      "cell_type": "markdown",
      "metadata": {
        "id": "N2zq-7rbF7T-"
      },
      "source": [
        "##Case Folding"
      ]
    },
    {
      "cell_type": "code",
      "metadata": {
        "id": "S7IbhPDIlV7b",
        "colab": {
          "base_uri": "https://localhost:8080/",
          "height": 287
        },
        "outputId": "606818c1-7f84-44b1-868a-d40a85cef615"
      },
      "source": [
        "df[\"text_lower\"] = df[\"cleansing\"].str.lower()\n",
        "df.head()"
      ],
      "execution_count": null,
      "outputs": [
        {
          "output_type": "execute_result",
          "data": {
            "text/html": [
              "<div>\n",
              "<style scoped>\n",
              "    .dataframe tbody tr th:only-of-type {\n",
              "        vertical-align: middle;\n",
              "    }\n",
              "\n",
              "    .dataframe tbody tr th {\n",
              "        vertical-align: top;\n",
              "    }\n",
              "\n",
              "    .dataframe thead th {\n",
              "        text-align: right;\n",
              "    }\n",
              "</style>\n",
              "<table border=\"1\" class=\"dataframe\">\n",
              "  <thead>\n",
              "    <tr style=\"text-align: right;\">\n",
              "      <th></th>\n",
              "      <th>Tweet</th>\n",
              "      <th>Label</th>\n",
              "      <th>Sentimen</th>\n",
              "      <th>Waktu</th>\n",
              "      <th>cleansing</th>\n",
              "      <th>text_lower</th>\n",
              "    </tr>\n",
              "  </thead>\n",
              "  <tbody>\n",
              "    <tr>\n",
              "      <th>0</th>\n",
              "      <td>... dapat membuat proses vaksinasi Covid-19 me...</td>\n",
              "      <td>0</td>\n",
              "      <td>Negatif</td>\n",
              "      <td>2020-11-29 09:50:01+00:00</td>\n",
              "      <td>dapat membuat proses vaksinasi Covid menjadi ...</td>\n",
              "      <td>dapat membuat proses vaksinasi covid menjadi ...</td>\n",
              "    </tr>\n",
              "    <tr>\n",
              "      <th>1</th>\n",
              "      <td>'Everything happens for a good reason''. Segal...</td>\n",
              "      <td>1</td>\n",
              "      <td>Positif</td>\n",
              "      <td>2021-01-08 11:38:19+00:00</td>\n",
              "      <td>Everything happens for a good reason Segala se...</td>\n",
              "      <td>everything happens for a good reason segala se...</td>\n",
              "    </tr>\n",
              "    <tr>\n",
              "      <th>2</th>\n",
              "      <td>\" bagaimana dampak covid-19 terhadap kenaikan ...</td>\n",
              "      <td>0</td>\n",
              "      <td>Negatif</td>\n",
              "      <td>2020-11-29 06:40:45+00:00</td>\n",
              "      <td>bagaimana dampak covid terhadap kenaikan angk...</td>\n",
              "      <td>bagaimana dampak covid terhadap kenaikan angk...</td>\n",
              "    </tr>\n",
              "    <tr>\n",
              "      <th>3</th>\n",
              "      <td>\"Di indonesia doang covid 19 paling bertahan\"</td>\n",
              "      <td>0</td>\n",
              "      <td>Negatif</td>\n",
              "      <td>2020-11-29 13:40:50+00:00</td>\n",
              "      <td>Di indonesia doang covid paling bertahan</td>\n",
              "      <td>di indonesia doang covid paling bertahan</td>\n",
              "    </tr>\n",
              "    <tr>\n",
              "      <th>4</th>\n",
              "      <td>\"Indonesia jangan sampai kena gelombang 2 covi...</td>\n",
              "      <td>0</td>\n",
              "      <td>Negatif</td>\n",
              "      <td>2020-12-31 16:10:09+00:00</td>\n",
              "      <td>Indonesia jangan sampai kena gelombang 2 covid...</td>\n",
              "      <td>indonesia jangan sampai kena gelombang 2 covid...</td>\n",
              "    </tr>\n",
              "  </tbody>\n",
              "</table>\n",
              "</div>"
            ],
            "text/plain": [
              "                                               Tweet  ...                                         text_lower\n",
              "0  ... dapat membuat proses vaksinasi Covid-19 me...  ...   dapat membuat proses vaksinasi covid menjadi ...\n",
              "1  'Everything happens for a good reason''. Segal...  ...  everything happens for a good reason segala se...\n",
              "2  \" bagaimana dampak covid-19 terhadap kenaikan ...  ...   bagaimana dampak covid terhadap kenaikan angk...\n",
              "3      \"Di indonesia doang covid 19 paling bertahan\"  ...           di indonesia doang covid paling bertahan\n",
              "4  \"Indonesia jangan sampai kena gelombang 2 covi...  ...  indonesia jangan sampai kena gelombang 2 covid...\n",
              "\n",
              "[5 rows x 6 columns]"
            ]
          },
          "metadata": {
            "tags": []
          },
          "execution_count": 5
        }
      ]
    },
    {
      "cell_type": "markdown",
      "metadata": {
        "id": "YHOxIKwWbDlg"
      },
      "source": [
        "##Tokenizing\n"
      ]
    },
    {
      "cell_type": "code",
      "metadata": {
        "id": "q2BFDMOFGcXG",
        "colab": {
          "base_uri": "https://localhost:8080/",
          "height": 321
        },
        "outputId": "c5f23d83-6942-4443-8319-a678bef34b6b"
      },
      "source": [
        "import nltk\n",
        "nltk.download('punkt')\n",
        "\n",
        "def tokenizing(text):\n",
        "  tokens = nltk.word_tokenize(text)\n",
        "  return tokens\n",
        "\n",
        "df[\"text_tokenize\"] = df[\"text_lower\"].apply(lambda text: tokenizing(text))\n",
        "df.head()"
      ],
      "execution_count": null,
      "outputs": [
        {
          "output_type": "stream",
          "text": [
            "[nltk_data] Downloading package punkt to /root/nltk_data...\n",
            "[nltk_data]   Unzipping tokenizers/punkt.zip.\n"
          ],
          "name": "stdout"
        },
        {
          "output_type": "execute_result",
          "data": {
            "text/html": [
              "<div>\n",
              "<style scoped>\n",
              "    .dataframe tbody tr th:only-of-type {\n",
              "        vertical-align: middle;\n",
              "    }\n",
              "\n",
              "    .dataframe tbody tr th {\n",
              "        vertical-align: top;\n",
              "    }\n",
              "\n",
              "    .dataframe thead th {\n",
              "        text-align: right;\n",
              "    }\n",
              "</style>\n",
              "<table border=\"1\" class=\"dataframe\">\n",
              "  <thead>\n",
              "    <tr style=\"text-align: right;\">\n",
              "      <th></th>\n",
              "      <th>Tweet</th>\n",
              "      <th>Label</th>\n",
              "      <th>Sentimen</th>\n",
              "      <th>Waktu</th>\n",
              "      <th>cleansing</th>\n",
              "      <th>text_lower</th>\n",
              "      <th>text_tokenize</th>\n",
              "    </tr>\n",
              "  </thead>\n",
              "  <tbody>\n",
              "    <tr>\n",
              "      <th>0</th>\n",
              "      <td>... dapat membuat proses vaksinasi Covid-19 me...</td>\n",
              "      <td>0</td>\n",
              "      <td>Negatif</td>\n",
              "      <td>2020-11-29 09:50:01+00:00</td>\n",
              "      <td>dapat membuat proses vaksinasi Covid menjadi ...</td>\n",
              "      <td>dapat membuat proses vaksinasi covid menjadi ...</td>\n",
              "      <td>[dapat, membuat, proses, vaksinasi, covid, men...</td>\n",
              "    </tr>\n",
              "    <tr>\n",
              "      <th>1</th>\n",
              "      <td>'Everything happens for a good reason''. Segal...</td>\n",
              "      <td>1</td>\n",
              "      <td>Positif</td>\n",
              "      <td>2021-01-08 11:38:19+00:00</td>\n",
              "      <td>Everything happens for a good reason Segala se...</td>\n",
              "      <td>everything happens for a good reason segala se...</td>\n",
              "      <td>[everything, happens, for, a, good, reason, se...</td>\n",
              "    </tr>\n",
              "    <tr>\n",
              "      <th>2</th>\n",
              "      <td>\" bagaimana dampak covid-19 terhadap kenaikan ...</td>\n",
              "      <td>0</td>\n",
              "      <td>Negatif</td>\n",
              "      <td>2020-11-29 06:40:45+00:00</td>\n",
              "      <td>bagaimana dampak covid terhadap kenaikan angk...</td>\n",
              "      <td>bagaimana dampak covid terhadap kenaikan angk...</td>\n",
              "      <td>[bagaimana, dampak, covid, terhadap, kenaikan,...</td>\n",
              "    </tr>\n",
              "    <tr>\n",
              "      <th>3</th>\n",
              "      <td>\"Di indonesia doang covid 19 paling bertahan\"</td>\n",
              "      <td>0</td>\n",
              "      <td>Negatif</td>\n",
              "      <td>2020-11-29 13:40:50+00:00</td>\n",
              "      <td>Di indonesia doang covid paling bertahan</td>\n",
              "      <td>di indonesia doang covid paling bertahan</td>\n",
              "      <td>[di, indonesia, doang, covid, paling, bertahan]</td>\n",
              "    </tr>\n",
              "    <tr>\n",
              "      <th>4</th>\n",
              "      <td>\"Indonesia jangan sampai kena gelombang 2 covi...</td>\n",
              "      <td>0</td>\n",
              "      <td>Negatif</td>\n",
              "      <td>2020-12-31 16:10:09+00:00</td>\n",
              "      <td>Indonesia jangan sampai kena gelombang 2 covid...</td>\n",
              "      <td>indonesia jangan sampai kena gelombang 2 covid...</td>\n",
              "      <td>[indonesia, jangan, sampai, kena, gelombang, 2...</td>\n",
              "    </tr>\n",
              "  </tbody>\n",
              "</table>\n",
              "</div>"
            ],
            "text/plain": [
              "                                               Tweet  ...                                      text_tokenize\n",
              "0  ... dapat membuat proses vaksinasi Covid-19 me...  ...  [dapat, membuat, proses, vaksinasi, covid, men...\n",
              "1  'Everything happens for a good reason''. Segal...  ...  [everything, happens, for, a, good, reason, se...\n",
              "2  \" bagaimana dampak covid-19 terhadap kenaikan ...  ...  [bagaimana, dampak, covid, terhadap, kenaikan,...\n",
              "3      \"Di indonesia doang covid 19 paling bertahan\"  ...    [di, indonesia, doang, covid, paling, bertahan]\n",
              "4  \"Indonesia jangan sampai kena gelombang 2 covi...  ...  [indonesia, jangan, sampai, kena, gelombang, 2...\n",
              "\n",
              "[5 rows x 7 columns]"
            ]
          },
          "metadata": {
            "tags": []
          },
          "execution_count": 6
        }
      ]
    },
    {
      "cell_type": "markdown",
      "metadata": {
        "id": "rHPKfZYIbIVP"
      },
      "source": [
        "##Normalization\n",
        "\n"
      ]
    },
    {
      "cell_type": "code",
      "metadata": {
        "colab": {
          "base_uri": "https://localhost:8080/",
          "height": 371
        },
        "id": "TqkCnNHPnBPP",
        "outputId": "48647a7d-4878-47d5-b39a-d9306c4570cc"
      },
      "source": [
        "normalization_word = pd.read_csv('colloquial-indonesian-lexicon.csv')\n",
        "normalization_word_dict = {}\n",
        "\n",
        "for index, row in normalization_word.iterrows():\n",
        "    if row[0] not in normalization_word_dict:\n",
        "        normalization_word_dict[row[0]] = row[1]\n",
        "\n",
        "def normalization(document):\n",
        "    return [normalization_word_dict[term] if term in normalization_word_dict else term for term in document]\n",
        "\n",
        "df['normalization'] = df['text_tokenize'].apply(normalization)\n",
        "\n",
        "from nltk.tokenize.treebank import TreebankWordDetokenizer\n",
        "df['normalization']=df['normalization'].apply(lambda x: TreebankWordDetokenizer().detokenize(x))\n",
        "df.head()"
      ],
      "execution_count": null,
      "outputs": [
        {
          "output_type": "execute_result",
          "data": {
            "text/html": [
              "<div>\n",
              "<style scoped>\n",
              "    .dataframe tbody tr th:only-of-type {\n",
              "        vertical-align: middle;\n",
              "    }\n",
              "\n",
              "    .dataframe tbody tr th {\n",
              "        vertical-align: top;\n",
              "    }\n",
              "\n",
              "    .dataframe thead th {\n",
              "        text-align: right;\n",
              "    }\n",
              "</style>\n",
              "<table border=\"1\" class=\"dataframe\">\n",
              "  <thead>\n",
              "    <tr style=\"text-align: right;\">\n",
              "      <th></th>\n",
              "      <th>Tweet</th>\n",
              "      <th>Label</th>\n",
              "      <th>Sentimen</th>\n",
              "      <th>Waktu</th>\n",
              "      <th>cleansing</th>\n",
              "      <th>text_lower</th>\n",
              "      <th>text_tokenize</th>\n",
              "      <th>normalization</th>\n",
              "    </tr>\n",
              "  </thead>\n",
              "  <tbody>\n",
              "    <tr>\n",
              "      <th>0</th>\n",
              "      <td>... dapat membuat proses vaksinasi Covid-19 me...</td>\n",
              "      <td>0</td>\n",
              "      <td>Negatif</td>\n",
              "      <td>2020-11-29 09:50:01+00:00</td>\n",
              "      <td>dapat membuat proses vaksinasi Covid menjadi ...</td>\n",
              "      <td>dapat membuat proses vaksinasi covid menjadi ...</td>\n",
              "      <td>[dapat, membuat, proses, vaksinasi, covid, men...</td>\n",
              "      <td>dapat membuat proses vaksinasi covid menjadi t...</td>\n",
              "    </tr>\n",
              "    <tr>\n",
              "      <th>1</th>\n",
              "      <td>'Everything happens for a good reason''. Segal...</td>\n",
              "      <td>1</td>\n",
              "      <td>Positif</td>\n",
              "      <td>2021-01-08 11:38:19+00:00</td>\n",
              "      <td>Everything happens for a good reason Segala se...</td>\n",
              "      <td>everything happens for a good reason segala se...</td>\n",
              "      <td>[everything, happens, for, a, good, reason, se...</td>\n",
              "      <td>everything happens for a good reason segala se...</td>\n",
              "    </tr>\n",
              "    <tr>\n",
              "      <th>2</th>\n",
              "      <td>\" bagaimana dampak covid-19 terhadap kenaikan ...</td>\n",
              "      <td>0</td>\n",
              "      <td>Negatif</td>\n",
              "      <td>2020-11-29 06:40:45+00:00</td>\n",
              "      <td>bagaimana dampak covid terhadap kenaikan angk...</td>\n",
              "      <td>bagaimana dampak covid terhadap kenaikan angk...</td>\n",
              "      <td>[bagaimana, dampak, covid, terhadap, kenaikan,...</td>\n",
              "      <td>bagaimana dampak covid terhadap kenaikan angka...</td>\n",
              "    </tr>\n",
              "    <tr>\n",
              "      <th>3</th>\n",
              "      <td>\"Di indonesia doang covid 19 paling bertahan\"</td>\n",
              "      <td>0</td>\n",
              "      <td>Negatif</td>\n",
              "      <td>2020-11-29 13:40:50+00:00</td>\n",
              "      <td>Di indonesia doang covid paling bertahan</td>\n",
              "      <td>di indonesia doang covid paling bertahan</td>\n",
              "      <td>[di, indonesia, doang, covid, paling, bertahan]</td>\n",
              "      <td>di indonesia doang covid paling bertahan</td>\n",
              "    </tr>\n",
              "    <tr>\n",
              "      <th>4</th>\n",
              "      <td>\"Indonesia jangan sampai kena gelombang 2 covi...</td>\n",
              "      <td>0</td>\n",
              "      <td>Negatif</td>\n",
              "      <td>2020-12-31 16:10:09+00:00</td>\n",
              "      <td>Indonesia jangan sampai kena gelombang 2 covid...</td>\n",
              "      <td>indonesia jangan sampai kena gelombang 2 covid...</td>\n",
              "      <td>[indonesia, jangan, sampai, kena, gelombang, 2...</td>\n",
              "      <td>indonesia jangan sampai kena gelombang 2 covid...</td>\n",
              "    </tr>\n",
              "  </tbody>\n",
              "</table>\n",
              "</div>"
            ],
            "text/plain": [
              "                                               Tweet  ...                                      normalization\n",
              "0  ... dapat membuat proses vaksinasi Covid-19 me...  ...  dapat membuat proses vaksinasi covid menjadi t...\n",
              "1  'Everything happens for a good reason''. Segal...  ...  everything happens for a good reason segala se...\n",
              "2  \" bagaimana dampak covid-19 terhadap kenaikan ...  ...  bagaimana dampak covid terhadap kenaikan angka...\n",
              "3      \"Di indonesia doang covid 19 paling bertahan\"  ...           di indonesia doang covid paling bertahan\n",
              "4  \"Indonesia jangan sampai kena gelombang 2 covi...  ...  indonesia jangan sampai kena gelombang 2 covid...\n",
              "\n",
              "[5 rows x 8 columns]"
            ]
          },
          "metadata": {
            "tags": []
          },
          "execution_count": 7
        }
      ]
    },
    {
      "cell_type": "markdown",
      "metadata": {
        "id": "mzJfDYYuklEP"
      },
      "source": [
        "##Filtering"
      ]
    },
    {
      "cell_type": "code",
      "metadata": {
        "colab": {
          "base_uri": "https://localhost:8080/"
        },
        "id": "2yjxGE1RU9uc",
        "outputId": "e4405009-8844-4d48-a2e8-8e90ce7f82ce"
      },
      "source": [
        "pip install Sastrawi"
      ],
      "execution_count": null,
      "outputs": [
        {
          "output_type": "stream",
          "text": [
            "Collecting Sastrawi\n",
            "\u001b[?25l  Downloading https://files.pythonhosted.org/packages/6f/4b/bab676953da3103003730b8fcdfadbdd20f333d4add10af949dd5c51e6ed/Sastrawi-1.0.1-py2.py3-none-any.whl (209kB)\n",
            "\r\u001b[K     |█▋                              | 10kB 14.6MB/s eta 0:00:01\r\u001b[K     |███▏                            | 20kB 20.5MB/s eta 0:00:01\r\u001b[K     |████▊                           | 30kB 16.6MB/s eta 0:00:01\r\u001b[K     |██████▎                         | 40kB 14.4MB/s eta 0:00:01\r\u001b[K     |███████▉                        | 51kB 6.4MB/s eta 0:00:01\r\u001b[K     |█████████▍                      | 61kB 6.2MB/s eta 0:00:01\r\u001b[K     |███████████                     | 71kB 6.9MB/s eta 0:00:01\r\u001b[K     |████████████▌                   | 81kB 7.7MB/s eta 0:00:01\r\u001b[K     |██████████████                  | 92kB 8.2MB/s eta 0:00:01\r\u001b[K     |███████████████▋                | 102kB 6.8MB/s eta 0:00:01\r\u001b[K     |█████████████████▏              | 112kB 6.8MB/s eta 0:00:01\r\u001b[K     |██████████████████▊             | 122kB 6.8MB/s eta 0:00:01\r\u001b[K     |████████████████████▎           | 133kB 6.8MB/s eta 0:00:01\r\u001b[K     |█████████████████████▉          | 143kB 6.8MB/s eta 0:00:01\r\u001b[K     |███████████████████████▍        | 153kB 6.8MB/s eta 0:00:01\r\u001b[K     |█████████████████████████       | 163kB 6.8MB/s eta 0:00:01\r\u001b[K     |██████████████████████████▋     | 174kB 6.8MB/s eta 0:00:01\r\u001b[K     |████████████████████████████▏   | 184kB 6.8MB/s eta 0:00:01\r\u001b[K     |█████████████████████████████▊  | 194kB 6.8MB/s eta 0:00:01\r\u001b[K     |███████████████████████████████▎| 204kB 6.8MB/s eta 0:00:01\r\u001b[K     |████████████████████████████████| 215kB 6.8MB/s \n",
            "\u001b[?25hInstalling collected packages: Sastrawi\n",
            "Successfully installed Sastrawi-1.0.1\n"
          ],
          "name": "stdout"
        }
      ]
    },
    {
      "cell_type": "code",
      "metadata": {
        "id": "g4xpEFjaXGw4",
        "colab": {
          "base_uri": "https://localhost:8080/",
          "height": 438
        },
        "outputId": "2e57979d-84ab-4751-d607-31796b1486a0"
      },
      "source": [
        "from Sastrawi.StopWordRemover.StopWordRemoverFactory import StopWordRemoverFactory\n",
        "\n",
        "def filtering(text):\n",
        "  factory = StopWordRemoverFactory()\n",
        "  stopword = factory.create_stop_word_remover()\n",
        "  filter = stopword.remove(text)\n",
        "  return filter\n",
        "\n",
        "df[\"text_filtering\"] = df[\"normalization\"].apply(lambda text: filtering(text))\n",
        "df.head()"
      ],
      "execution_count": null,
      "outputs": [
        {
          "output_type": "execute_result",
          "data": {
            "text/html": [
              "<div>\n",
              "<style scoped>\n",
              "    .dataframe tbody tr th:only-of-type {\n",
              "        vertical-align: middle;\n",
              "    }\n",
              "\n",
              "    .dataframe tbody tr th {\n",
              "        vertical-align: top;\n",
              "    }\n",
              "\n",
              "    .dataframe thead th {\n",
              "        text-align: right;\n",
              "    }\n",
              "</style>\n",
              "<table border=\"1\" class=\"dataframe\">\n",
              "  <thead>\n",
              "    <tr style=\"text-align: right;\">\n",
              "      <th></th>\n",
              "      <th>Tweet</th>\n",
              "      <th>Label</th>\n",
              "      <th>Sentimen</th>\n",
              "      <th>Waktu</th>\n",
              "      <th>cleansing</th>\n",
              "      <th>text_lower</th>\n",
              "      <th>text_tokenize</th>\n",
              "      <th>normalization</th>\n",
              "      <th>text_filtering</th>\n",
              "    </tr>\n",
              "  </thead>\n",
              "  <tbody>\n",
              "    <tr>\n",
              "      <th>0</th>\n",
              "      <td>... dapat membuat proses vaksinasi Covid-19 me...</td>\n",
              "      <td>0</td>\n",
              "      <td>Negatif</td>\n",
              "      <td>2020-11-29 09:50:01+00:00</td>\n",
              "      <td>dapat membuat proses vaksinasi Covid menjadi ...</td>\n",
              "      <td>dapat membuat proses vaksinasi covid menjadi ...</td>\n",
              "      <td>[dapat, membuat, proses, vaksinasi, covid, men...</td>\n",
              "      <td>dapat membuat proses vaksinasi covid menjadi t...</td>\n",
              "      <td>membuat proses vaksinasi covid menjadi pasti t...</td>\n",
              "    </tr>\n",
              "    <tr>\n",
              "      <th>1</th>\n",
              "      <td>'Everything happens for a good reason''. Segal...</td>\n",
              "      <td>1</td>\n",
              "      <td>Positif</td>\n",
              "      <td>2021-01-08 11:38:19+00:00</td>\n",
              "      <td>Everything happens for a good reason Segala se...</td>\n",
              "      <td>everything happens for a good reason segala se...</td>\n",
              "      <td>[everything, happens, for, a, good, reason, se...</td>\n",
              "      <td>everything happens for a good reason segala se...</td>\n",
              "      <td>everything happens for a good reason segala te...</td>\n",
              "    </tr>\n",
              "    <tr>\n",
              "      <th>2</th>\n",
              "      <td>\" bagaimana dampak covid-19 terhadap kenaikan ...</td>\n",
              "      <td>0</td>\n",
              "      <td>Negatif</td>\n",
              "      <td>2020-11-29 06:40:45+00:00</td>\n",
              "      <td>bagaimana dampak covid terhadap kenaikan angk...</td>\n",
              "      <td>bagaimana dampak covid terhadap kenaikan angk...</td>\n",
              "      <td>[bagaimana, dampak, covid, terhadap, kenaikan,...</td>\n",
              "      <td>bagaimana dampak covid terhadap kenaikan angka...</td>\n",
              "      <td>bagaimana dampak covid kenaikan angka kemiskin...</td>\n",
              "    </tr>\n",
              "    <tr>\n",
              "      <th>3</th>\n",
              "      <td>\"Di indonesia doang covid 19 paling bertahan\"</td>\n",
              "      <td>0</td>\n",
              "      <td>Negatif</td>\n",
              "      <td>2020-11-29 13:40:50+00:00</td>\n",
              "      <td>Di indonesia doang covid paling bertahan</td>\n",
              "      <td>di indonesia doang covid paling bertahan</td>\n",
              "      <td>[di, indonesia, doang, covid, paling, bertahan]</td>\n",
              "      <td>di indonesia doang covid paling bertahan</td>\n",
              "      <td>indonesia doang covid paling bertahan</td>\n",
              "    </tr>\n",
              "    <tr>\n",
              "      <th>4</th>\n",
              "      <td>\"Indonesia jangan sampai kena gelombang 2 covi...</td>\n",
              "      <td>0</td>\n",
              "      <td>Negatif</td>\n",
              "      <td>2020-12-31 16:10:09+00:00</td>\n",
              "      <td>Indonesia jangan sampai kena gelombang 2 covid...</td>\n",
              "      <td>indonesia jangan sampai kena gelombang 2 covid...</td>\n",
              "      <td>[indonesia, jangan, sampai, kena, gelombang, 2...</td>\n",
              "      <td>indonesia jangan sampai kena gelombang 2 covid...</td>\n",
              "      <td>indonesia jangan kena gelombang 2 covid gelomb...</td>\n",
              "    </tr>\n",
              "  </tbody>\n",
              "</table>\n",
              "</div>"
            ],
            "text/plain": [
              "                                               Tweet  ...                                     text_filtering\n",
              "0  ... dapat membuat proses vaksinasi Covid-19 me...  ...  membuat proses vaksinasi covid menjadi pasti t...\n",
              "1  'Everything happens for a good reason''. Segal...  ...  everything happens for a good reason segala te...\n",
              "2  \" bagaimana dampak covid-19 terhadap kenaikan ...  ...  bagaimana dampak covid kenaikan angka kemiskin...\n",
              "3      \"Di indonesia doang covid 19 paling bertahan\"  ...              indonesia doang covid paling bertahan\n",
              "4  \"Indonesia jangan sampai kena gelombang 2 covi...  ...  indonesia jangan kena gelombang 2 covid gelomb...\n",
              "\n",
              "[5 rows x 9 columns]"
            ]
          },
          "metadata": {
            "tags": []
          },
          "execution_count": 9
        }
      ]
    },
    {
      "cell_type": "markdown",
      "metadata": {
        "id": "57muNSCUpjUA"
      },
      "source": [
        "##Stemming"
      ]
    },
    {
      "cell_type": "code",
      "metadata": {
        "id": "eSj2BR98lw6q",
        "colab": {
          "base_uri": "https://localhost:8080/",
          "height": 522
        },
        "outputId": "39202686-f05b-4045-b9f1-f36c0620d8e1"
      },
      "source": [
        "from Sastrawi.Stemmer.StemmerFactory import StemmerFactory\n",
        "\n",
        "def stemming(text):\n",
        "  factory = StemmerFactory()\n",
        "  stemmer = factory.create_stemmer()\n",
        "  stem = stemmer.stem(text)\n",
        "  return stem\n",
        "\n",
        "df[\"text_stemming\"] = df[\"text_filtering\"].apply(lambda text: stemming(text))\n",
        "df.head()"
      ],
      "execution_count": null,
      "outputs": [
        {
          "output_type": "execute_result",
          "data": {
            "text/html": [
              "<div>\n",
              "<style scoped>\n",
              "    .dataframe tbody tr th:only-of-type {\n",
              "        vertical-align: middle;\n",
              "    }\n",
              "\n",
              "    .dataframe tbody tr th {\n",
              "        vertical-align: top;\n",
              "    }\n",
              "\n",
              "    .dataframe thead th {\n",
              "        text-align: right;\n",
              "    }\n",
              "</style>\n",
              "<table border=\"1\" class=\"dataframe\">\n",
              "  <thead>\n",
              "    <tr style=\"text-align: right;\">\n",
              "      <th></th>\n",
              "      <th>Tweet</th>\n",
              "      <th>Label</th>\n",
              "      <th>Sentimen</th>\n",
              "      <th>Waktu</th>\n",
              "      <th>cleansing</th>\n",
              "      <th>text_lower</th>\n",
              "      <th>text_tokenize</th>\n",
              "      <th>normalization</th>\n",
              "      <th>text_filtering</th>\n",
              "      <th>text_stemming</th>\n",
              "    </tr>\n",
              "  </thead>\n",
              "  <tbody>\n",
              "    <tr>\n",
              "      <th>0</th>\n",
              "      <td>... dapat membuat proses vaksinasi Covid-19 me...</td>\n",
              "      <td>0</td>\n",
              "      <td>Negatif</td>\n",
              "      <td>2020-11-29 09:50:01+00:00</td>\n",
              "      <td>dapat membuat proses vaksinasi Covid menjadi ...</td>\n",
              "      <td>dapat membuat proses vaksinasi covid menjadi ...</td>\n",
              "      <td>[dapat, membuat, proses, vaksinasi, covid, men...</td>\n",
              "      <td>dapat membuat proses vaksinasi covid menjadi t...</td>\n",
              "      <td>membuat proses vaksinasi covid menjadi pasti t...</td>\n",
              "      <td>buat proses vaksinasi covid jadi pasti tidak j...</td>\n",
              "    </tr>\n",
              "    <tr>\n",
              "      <th>1</th>\n",
              "      <td>'Everything happens for a good reason''. Segal...</td>\n",
              "      <td>1</td>\n",
              "      <td>Positif</td>\n",
              "      <td>2021-01-08 11:38:19+00:00</td>\n",
              "      <td>Everything happens for a good reason Segala se...</td>\n",
              "      <td>everything happens for a good reason segala se...</td>\n",
              "      <td>[everything, happens, for, a, good, reason, se...</td>\n",
              "      <td>everything happens for a good reason segala se...</td>\n",
              "      <td>everything happens for a good reason segala te...</td>\n",
              "      <td>everything happens for a good reason segala ja...</td>\n",
              "    </tr>\n",
              "    <tr>\n",
              "      <th>2</th>\n",
              "      <td>\" bagaimana dampak covid-19 terhadap kenaikan ...</td>\n",
              "      <td>0</td>\n",
              "      <td>Negatif</td>\n",
              "      <td>2020-11-29 06:40:45+00:00</td>\n",
              "      <td>bagaimana dampak covid terhadap kenaikan angk...</td>\n",
              "      <td>bagaimana dampak covid terhadap kenaikan angk...</td>\n",
              "      <td>[bagaimana, dampak, covid, terhadap, kenaikan,...</td>\n",
              "      <td>bagaimana dampak covid terhadap kenaikan angka...</td>\n",
              "      <td>bagaimana dampak covid kenaikan angka kemiskin...</td>\n",
              "      <td>bagaimana dampak covid naik angka miskin indon...</td>\n",
              "    </tr>\n",
              "    <tr>\n",
              "      <th>3</th>\n",
              "      <td>\"Di indonesia doang covid 19 paling bertahan\"</td>\n",
              "      <td>0</td>\n",
              "      <td>Negatif</td>\n",
              "      <td>2020-11-29 13:40:50+00:00</td>\n",
              "      <td>Di indonesia doang covid paling bertahan</td>\n",
              "      <td>di indonesia doang covid paling bertahan</td>\n",
              "      <td>[di, indonesia, doang, covid, paling, bertahan]</td>\n",
              "      <td>di indonesia doang covid paling bertahan</td>\n",
              "      <td>indonesia doang covid paling bertahan</td>\n",
              "      <td>indonesia doang covid paling tahan</td>\n",
              "    </tr>\n",
              "    <tr>\n",
              "      <th>4</th>\n",
              "      <td>\"Indonesia jangan sampai kena gelombang 2 covi...</td>\n",
              "      <td>0</td>\n",
              "      <td>Negatif</td>\n",
              "      <td>2020-12-31 16:10:09+00:00</td>\n",
              "      <td>Indonesia jangan sampai kena gelombang 2 covid...</td>\n",
              "      <td>indonesia jangan sampai kena gelombang 2 covid...</td>\n",
              "      <td>[indonesia, jangan, sampai, kena, gelombang, 2...</td>\n",
              "      <td>indonesia jangan sampai kena gelombang 2 covid...</td>\n",
              "      <td>indonesia jangan kena gelombang 2 covid gelomb...</td>\n",
              "      <td>indonesia jangan kena gelombang 2 covid gelomb...</td>\n",
              "    </tr>\n",
              "  </tbody>\n",
              "</table>\n",
              "</div>"
            ],
            "text/plain": [
              "                                               Tweet  ...                                      text_stemming\n",
              "0  ... dapat membuat proses vaksinasi Covid-19 me...  ...  buat proses vaksinasi covid jadi pasti tidak j...\n",
              "1  'Everything happens for a good reason''. Segal...  ...  everything happens for a good reason segala ja...\n",
              "2  \" bagaimana dampak covid-19 terhadap kenaikan ...  ...  bagaimana dampak covid naik angka miskin indon...\n",
              "3      \"Di indonesia doang covid 19 paling bertahan\"  ...                 indonesia doang covid paling tahan\n",
              "4  \"Indonesia jangan sampai kena gelombang 2 covi...  ...  indonesia jangan kena gelombang 2 covid gelomb...\n",
              "\n",
              "[5 rows x 10 columns]"
            ]
          },
          "metadata": {
            "tags": []
          },
          "execution_count": 10
        }
      ]
    },
    {
      "cell_type": "markdown",
      "metadata": {
        "id": "u-M_u8KKGiWY"
      },
      "source": [
        "##Featur Extraction (TF-IDF)"
      ]
    },
    {
      "cell_type": "code",
      "metadata": {
        "id": "igTYf6sM6NM8"
      },
      "source": [
        "#Creating Bag of Words Model\n",
        "from sklearn.feature_extraction.text import CountVectorizer\n",
        "cv = CountVectorizer()\n",
        "X = cv.fit_transform(df['text_stemming']).toarray()\n",
        "y = df.iloc[:, 1].values"
      ],
      "execution_count": null,
      "outputs": []
    },
    {
      "cell_type": "code",
      "metadata": {
        "id": "YVQ9Kr7G72pK"
      },
      "source": [
        "#Creating TF-IDF\n",
        "from sklearn.feature_extraction.text import TfidfTransformer\n",
        "tfidfconverter = TfidfTransformer()\n",
        "X= tfidfconverter.fit_transform(X).toarray()"
      ],
      "execution_count": null,
      "outputs": []
    },
    {
      "cell_type": "code",
      "metadata": {
        "id": "8v-srJg0Z4Bl"
      },
      "source": [
        "print(X)"
      ],
      "execution_count": null,
      "outputs": []
    },
    {
      "cell_type": "markdown",
      "metadata": {
        "id": "4IcgnSosdEVj"
      },
      "source": [
        "##Cross Validation"
      ]
    },
    {
      "cell_type": "code",
      "metadata": {
        "id": "1fUcPaESdGk-"
      },
      "source": [
        "from sklearn.model_selection import cross_val_score\n",
        "from sklearn import svm\n",
        "clf = svm.SVC(C = 0.5, degree = 2, gamma = 'scale', kernel = 'sigmoid')\n",
        "scores = cross_val_score(clf, X, y, cv=10)"
      ],
      "execution_count": null,
      "outputs": []
    },
    {
      "cell_type": "code",
      "metadata": {
        "colab": {
          "base_uri": "https://localhost:8080/"
        },
        "id": "IVDeSRsWeAaU",
        "outputId": "f6986982-d067-4e91-ec27-bd12cc584b9e"
      },
      "source": [
        "print(scores)\n",
        "scores.mean()"
      ],
      "execution_count": null,
      "outputs": [
        {
          "output_type": "stream",
          "text": [
            "[0.70229008 0.75572519 0.82307692 0.82307692 0.81538462 0.76153846\n",
            " 0.80769231 0.85384615 0.76923077 0.80769231]\n"
          ],
          "name": "stdout"
        },
        {
          "output_type": "execute_result",
          "data": {
            "text/plain": [
              "0.7919553728714034"
            ]
          },
          "metadata": {
            "tags": []
          },
          "execution_count": 19
        }
      ]
    },
    {
      "cell_type": "code",
      "metadata": {
        "id": "UEXeJsnmeMqN"
      },
      "source": [
        "from sklearn.model_selection import cross_val_score\n",
        "from sklearn.naive_bayes import MultinomialNB\n",
        "clf2 = MultinomialNB(fit_prior=False)\n",
        "scores2 = cross_val_score(clf2, X, y, cv=10)"
      ],
      "execution_count": null,
      "outputs": []
    },
    {
      "cell_type": "code",
      "metadata": {
        "id": "0JbHD_8PfxmH",
        "colab": {
          "base_uri": "https://localhost:8080/"
        },
        "outputId": "2fae02b6-393f-4eb8-d4c3-418b9d0f0d36"
      },
      "source": [
        "print(scores2)\n",
        "scores2.mean()"
      ],
      "execution_count": null,
      "outputs": [
        {
          "output_type": "stream",
          "text": [
            "[0.70992366 0.77862595 0.81538462 0.76923077 0.79230769 0.76153846\n",
            " 0.80769231 0.83846154 0.77692308 0.76923077]\n"
          ],
          "name": "stdout"
        },
        {
          "output_type": "execute_result",
          "data": {
            "text/plain": [
              "0.7819318849089841"
            ]
          },
          "metadata": {
            "tags": []
          },
          "execution_count": 25
        }
      ]
    },
    {
      "cell_type": "markdown",
      "metadata": {
        "id": "K3hd6Ird3YYa"
      },
      "source": [
        "##GridSearch"
      ]
    },
    {
      "cell_type": "code",
      "metadata": {
        "colab": {
          "base_uri": "https://localhost:8080/"
        },
        "id": "rACfiqq0vIxU",
        "outputId": "5445ded9-8760-4750-d601-d13c22b8ab7d"
      },
      "source": [
        "from sklearn.model_selection import GridSearchCV\n",
        "from sklearn import svm\n",
        "svm = svm.SVC()\n",
        "param = {'C': (0.5, 1),\n",
        "         'kernel':('rbf', 'linear', 'sigmoid', 'poly'),\n",
        "         'gamma' : ('scale', 'auto'),\n",
        "         'degree' : (2, 3, 4)\n",
        "         }\n",
        "grid = GridSearchCV(svm, param)\n",
        "grid.fit(X,y)\n",
        "grid.best_params_"
      ],
      "execution_count": null,
      "outputs": [
        {
          "output_type": "execute_result",
          "data": {
            "text/plain": [
              "{'C': 0.5, 'degree': 2, 'gamma': 'scale', 'kernel': 'sigmoid'}"
            ]
          },
          "metadata": {
            "tags": []
          },
          "execution_count": 16
        }
      ]
    },
    {
      "cell_type": "code",
      "metadata": {
        "colab": {
          "base_uri": "https://localhost:8080/"
        },
        "id": "tBh03cGWfcR3",
        "outputId": "daa367f6-a2dd-448f-acb6-7e44b3e143a1"
      },
      "source": [
        "grid.best_score_"
      ],
      "execution_count": null,
      "outputs": [
        {
          "output_type": "execute_result",
          "data": {
            "text/plain": [
              "0.7819068670792808"
            ]
          },
          "metadata": {
            "tags": []
          },
          "execution_count": 20
        }
      ]
    },
    {
      "cell_type": "code",
      "metadata": {
        "colab": {
          "base_uri": "https://localhost:8080/"
        },
        "id": "NpbCvAQtymIn",
        "outputId": "1aba678f-cce5-43a8-d249-329ef891fe36"
      },
      "source": [
        "from sklearn.model_selection import GridSearchCV\n",
        "from sklearn.naive_bayes import MultinomialNB\n",
        "nb = MultinomialNB()\n",
        "param = {'fit_prior' : ('False', 'True')}\n",
        "grid = GridSearchCV(nb, param)\n",
        "grid.fit(X,y)\n",
        "grid.best_params_ "
      ],
      "execution_count": null,
      "outputs": [
        {
          "output_type": "execute_result",
          "data": {
            "text/plain": [
              "{'fit_prior': 'False'}"
            ]
          },
          "metadata": {
            "tags": []
          },
          "execution_count": 21
        }
      ]
    },
    {
      "cell_type": "code",
      "metadata": {
        "colab": {
          "base_uri": "https://localhost:8080/"
        },
        "id": "dwXuO1qa5u6N",
        "outputId": "dffc42c5-32ad-460e-f9e0-316294c4f3bd"
      },
      "source": [
        "print(scores)\n",
        "grid.best_score_"
      ],
      "execution_count": null,
      "outputs": [
        {
          "output_type": "stream",
          "text": [
            "[0.70229008 0.75572519 0.82307692 0.82307692 0.81538462 0.76153846\n",
            " 0.80769231 0.85384615 0.76923077 0.80769231]\n"
          ],
          "name": "stdout"
        },
        {
          "output_type": "execute_result",
          "data": {
            "text/plain": [
              "0.7089301503094607"
            ]
          },
          "metadata": {
            "tags": []
          },
          "execution_count": 23
        }
      ]
    },
    {
      "cell_type": "markdown",
      "metadata": {
        "id": "rriegnocSQr8"
      },
      "source": [
        "##Split Dataset"
      ]
    },
    {
      "cell_type": "code",
      "metadata": {
        "id": "C1rEU7bq9ZWs"
      },
      "source": [
        "#Splittting dataset into training and testing\n",
        "from sklearn.model_selection import train_test_split\n",
        "X_train, X_test, y_train, y_test = train_test_split(X, y, test_size = 0.4, random_state = 0)"
      ],
      "execution_count": null,
      "outputs": []
    },
    {
      "cell_type": "markdown",
      "metadata": {
        "id": "zdHeDzSuSXxz"
      },
      "source": [
        "##SVM\n"
      ]
    },
    {
      "cell_type": "code",
      "metadata": {
        "id": "3UFAFilAhXLn"
      },
      "source": [
        "from sklearn import svm\n",
        "\n",
        "classifierSVM = svm.SVC(C = 0.5, degree = 2, gamma = 'scale', kernel = 'sigmoid')\n",
        "# Proses Pelatihan\n",
        "classifierSVM.fit(X_train, y_train)\n",
        "# Prediksi data test\n",
        "y_pred_SVM = classifierSVM.predict(X_test)"
      ],
      "execution_count": null,
      "outputs": []
    },
    {
      "cell_type": "code",
      "metadata": {
        "id": "ZDuACWQsm1Jv",
        "colab": {
          "base_uri": "https://localhost:8080/"
        },
        "outputId": "87e04526-5406-4934-d154-c66676a75da9"
      },
      "source": [
        "from sklearn.metrics import confusion_matrix\n",
        "cm_SVM = confusion_matrix(y_test, y_pred_SVM)\n",
        "print(\"confusion matrix :\")\n",
        "print(cm_SVM)\n",
        "\n",
        "from sklearn.metrics import accuracy_score\n",
        "acc = (accuracy_score(y_test, y_pred_SVM))\n",
        "print(\"Accuracy : \", (acc))\n",
        "\n",
        "from sklearn.metrics import precision_score\n",
        "pre = (precision_score(y_test, y_pred_SVM))\n",
        "print(\"Precision : \", (pre))\n",
        "\n",
        "from sklearn.metrics import recall_score\n",
        "rec= (recall_score(y_test, y_pred_SVM))\n",
        "print(\"Recall : \", (rec))\n",
        "\n",
        "from sklearn.metrics import f1_score\n",
        "f1= (f1_score(y_test, y_pred_SVM))\n",
        "print(\"Skor F1: \", (f1))"
      ],
      "execution_count": null,
      "outputs": [
        {
          "output_type": "stream",
          "text": [
            "confusion matrix :\n",
            "[[136  51]\n",
            " [ 49 285]]\n",
            "Accuracy :  0.8080614203454894\n",
            "Precision :  0.8482142857142857\n",
            "Recall :  0.8532934131736527\n",
            "Skor F1:  0.8507462686567163\n"
          ],
          "name": "stdout"
        }
      ]
    },
    {
      "cell_type": "code",
      "metadata": {
        "colab": {
          "base_uri": "https://localhost:8080/"
        },
        "id": "ZlnYmONuxDbx",
        "outputId": "be765d7b-6bc9-48f8-a666-ef8c635fa87b"
      },
      "source": [
        "from sklearn.metrics import classification_report\n",
        "\n",
        "print (classification_report(y_test, y_pred_SVM))"
      ],
      "execution_count": null,
      "outputs": [
        {
          "output_type": "stream",
          "text": [
            "              precision    recall  f1-score   support\n",
            "\n",
            "           0       0.74      0.73      0.73       187\n",
            "           1       0.85      0.85      0.85       334\n",
            "\n",
            "    accuracy                           0.81       521\n",
            "   macro avg       0.79      0.79      0.79       521\n",
            "weighted avg       0.81      0.81      0.81       521\n",
            "\n"
          ],
          "name": "stdout"
        }
      ]
    },
    {
      "cell_type": "markdown",
      "metadata": {
        "id": "VoLlohOP_TW8"
      },
      "source": [
        "##Prediksi SVM"
      ]
    },
    {
      "cell_type": "code",
      "metadata": {
        "id": "Sx8erkWgzN0j"
      },
      "source": [
        "def prediksi_SVM(text):\n",
        "    text = cleansing(text)\n",
        "    text = str.lower(text)\n",
        "    text = tokenizing(text)\n",
        "    text = normalization(text)\n",
        "    text = TreebankWordDetokenizer().detokenize(text)\n",
        "    text = filtering(text)\n",
        "    text = stemming(text)\n",
        "    text = cv.transform([text]).toarray()\n",
        "    text = tfidfconverter.transform(text).toarray()\n",
        "    text = classifierSVM.predict(text)\n",
        "    if text[0] == 0:\n",
        "        print('Sentimen Negatif')\n",
        "    else:\n",
        "        print('Sentimen Positif')\n",
        "    return text"
      ],
      "execution_count": null,
      "outputs": []
    },
    {
      "cell_type": "code",
      "metadata": {
        "colab": {
          "base_uri": "https://localhost:8080/"
        },
        "id": "lA3vTnUuzaY9",
        "outputId": "5aada504-2bc0-455c-fb34-78c918c8e226"
      },
      "source": [
        "SVM = prediksi_SVM(\"korupsi bansos\")"
      ],
      "execution_count": null,
      "outputs": [
        {
          "output_type": "stream",
          "text": [
            "Sentimen Negatif\n"
          ],
          "name": "stdout"
        }
      ]
    },
    {
      "cell_type": "markdown",
      "metadata": {
        "id": "XP3i71l84o6W"
      },
      "source": [
        "##Naive Bayes\n"
      ]
    },
    {
      "cell_type": "code",
      "metadata": {
        "id": "5tYUo7lfP72S"
      },
      "source": [
        "from sklearn.naive_bayes import MultinomialNB\n",
        "\n",
        "classifierNB = MultinomialNB(fit_prior=False)\n",
        "# Proses Pelatihan\n",
        "classifierNB.fit(X_train, y_train)\n",
        "# Prediksi data test\n",
        "y_pred_NB = classifierNB.predict(X_test)"
      ],
      "execution_count": null,
      "outputs": []
    },
    {
      "cell_type": "code",
      "metadata": {
        "colab": {
          "base_uri": "https://localhost:8080/"
        },
        "id": "XYnqy7ItpsvU",
        "outputId": "1206ff08-48d8-4e15-d9b1-c9a42e43c309"
      },
      "source": [
        "from sklearn.metrics import confusion_matrix\n",
        "cm_NB = confusion_matrix(y_test, y_pred_NB)\n",
        "print(\"confusion matrix :\")\n",
        "print(cm_NB)\n",
        "\n",
        "from sklearn.metrics import accuracy_score\n",
        "acc = (accuracy_score(y_test, y_pred_NB))\n",
        "print(\"Accuracy : \", (acc))\n",
        "\n",
        "from sklearn.metrics import precision_score\n",
        "pre = (precision_score(y_test, y_pred_NB))\n",
        "print(\"Precision : \", (pre))\n",
        "\n",
        "from sklearn.metrics import recall_score\n",
        "rec= (recall_score(y_test, y_pred_NB))\n",
        "print(\"Recall : \", (rec))\n",
        "\n",
        "from sklearn.metrics import f1_score\n",
        "f1= (f1_score(y_test, y_pred_NB))\n",
        "print(\"Skor F1: \", (f1))"
      ],
      "execution_count": null,
      "outputs": [
        {
          "output_type": "stream",
          "text": [
            "confusion matrix :\n",
            "[[119  68]\n",
            " [ 37 297]]\n",
            "Accuracy :  0.7984644913627639\n",
            "Precision :  0.8136986301369863\n",
            "Recall :  0.8892215568862275\n",
            "Skor F1:  0.8497854077253219\n"
          ],
          "name": "stdout"
        }
      ]
    },
    {
      "cell_type": "code",
      "metadata": {
        "id": "8K0bXWkmx3bC",
        "colab": {
          "base_uri": "https://localhost:8080/"
        },
        "outputId": "e1fffac3-eb5c-4258-e884-260c19765cde"
      },
      "source": [
        "from sklearn.metrics import classification_report\n",
        "\n",
        "print (classification_report(y_test, y_pred_NB))"
      ],
      "execution_count": null,
      "outputs": [
        {
          "output_type": "stream",
          "text": [
            "              precision    recall  f1-score   support\n",
            "\n",
            "           0       0.76      0.64      0.69       187\n",
            "           1       0.81      0.89      0.85       334\n",
            "\n",
            "    accuracy                           0.80       521\n",
            "   macro avg       0.79      0.76      0.77       521\n",
            "weighted avg       0.80      0.80      0.79       521\n",
            "\n"
          ],
          "name": "stdout"
        }
      ]
    },
    {
      "cell_type": "markdown",
      "metadata": {
        "id": "0s5YW_r91JVF"
      },
      "source": [
        "##Prediksi Naive Bayes"
      ]
    },
    {
      "cell_type": "code",
      "metadata": {
        "id": "H8ZXi-zQ-FIr"
      },
      "source": [
        "def prediksi_NB(text):\n",
        "    text = cleansing(text)\n",
        "    text = str.lower(text)\n",
        "    text = tokenizing(text)\n",
        "    text = normalization(text)\n",
        "    text = TreebankWordDetokenizer().detokenize(text)\n",
        "    text = filtering(text)\n",
        "    text = stemming(text)\n",
        "    text = cv.transform([text]).toarray()\n",
        "    text = tfidfconverter.transform(text).toarray()\n",
        "    text = classifierNB.predict(text)\n",
        "    if text[0] == 0:\n",
        "        print('Sentimen Negatif')\n",
        "    else:\n",
        "        print('Sentimen Positif')\n",
        "    return text"
      ],
      "execution_count": null,
      "outputs": []
    },
    {
      "cell_type": "code",
      "metadata": {
        "colab": {
          "base_uri": "https://localhost:8080/"
        },
        "id": "e-YGmD-h1cdI",
        "outputId": "17a7fcec-f0b3-4d9e-c06f-a8870e4dd138"
      },
      "source": [
        "Naive_Bayes = prediksi_NB(\"indonesia vaksin gratis\")"
      ],
      "execution_count": null,
      "outputs": [
        {
          "output_type": "stream",
          "text": [
            "Sentimen Positif\n"
          ],
          "name": "stdout"
        }
      ]
    }
  ]
}